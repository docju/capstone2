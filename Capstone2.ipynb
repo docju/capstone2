{
 "cells": [
  {
   "cell_type": "markdown",
   "metadata": {},
   "source": [
    "# Data Science Capstone Project- SMS Spam Detection"
   ]
  },
  {
   "cell_type": "markdown",
   "metadata": {},
   "source": [
    "## Background"
   ]
  },
  {
   "cell_type": "markdown",
   "metadata": {},
   "source": [
    "Model for classification of SMS messages as genuine (ham) or spam using NLP. See blog post for more information.\n",
    "\n",
    "The data was obtained from Kaggle using around 5500 SMS text messages. Around 13% of the messages were listed as spam and the remainder as ham. The data has just two columns, the text and the classification.\n",
    "\n",
    "I utilised Stack Overflow and scikitlearn library as well as Towards Data Science to evaulate the model."
   ]
  },
  {
   "cell_type": "markdown",
   "metadata": {},
   "source": [
    "# Import libraries and load data"
   ]
  },
  {
   "cell_type": "code",
   "execution_count": 166,
   "metadata": {},
   "outputs": [
    {
     "name": "stdout",
     "output_type": "stream",
     "text": [
      "[nltk_data] Downloading package stopwords to /root/nltk_data...\n",
      "[nltk_data]   Package stopwords is already up-to-date!\n",
      "[nltk_data] Downloading package punkt to /root/nltk_data...\n",
      "[nltk_data]   Package punkt is already up-to-date!\n",
      "[nltk_data] Downloading package wordnet to /root/nltk_data...\n",
      "[nltk_data]   Package wordnet is already up-to-date!\n"
     ]
    }
   ],
   "source": [
    "#import libraries\n",
    "import matplotlib\n",
    "import pandas as pd\n",
    "import requests\n",
    "import io\n",
    "import numpy as np\n",
    "import matplotlib.pyplot as plt\n",
    "import re\n",
    "import nltk\n",
    "import sklearn as sklearn\n",
    "from nltk.corpus import stopwords\n",
    "from nltk.tokenize import word_tokenize\n",
    "from nltk.stem.wordnet import WordNetLemmatizer\n",
    "from wordcloud import WordCloud\n",
    "from sklearn.base import BaseEstimator, TransformerMixin\n",
    "from sklearn.model_selection import train_test_split, GridSearchCV\n",
    "from sklearn.feature_extraction.text import CountVectorizer, TfidfTransformer\n",
    "from sklearn.pipeline import Pipeline, FeatureUnion\n",
    "from sklearn.tree import DecisionTreeClassifier\n",
    "from sklearn.ensemble import RandomForestClassifier\n",
    "from sklearn.linear_model import LogisticRegression\n",
    "from sklearn.neighbors import KNeighborsClassifier\n",
    "from sklearn.feature_extraction.text import TfidfVectorizer\n",
    "from matplotlib import pyplot\n",
    "from sklearn import tree\n",
    "from sklearn.metrics import classification_report, accuracy_score, confusion_matrix, roc_auc_score, roc_curve\n",
    "\n",
    "\n",
    "nltk.download('stopwords')\n",
    "nltk.download('punkt')\n",
    "nltk.download('wordnet')\n",
    "%matplotlib inline\n",
    "    \n",
    "\n",
    "\n",
    "%matplotlib inline\n",
    "url1 = \"https://raw.githubusercontent.com/docju/capstone2/main/spamraw.csv\"\n",
    "download1 = requests.get(url1).content\n",
    "\n",
    "\n",
    "df = pd.read_csv(io.BytesIO(download1))\n"
   ]
  },
  {
   "cell_type": "code",
   "execution_count": 167,
   "metadata": {},
   "outputs": [
    {
     "name": "stdout",
     "output_type": "stream",
     "text": [
      "   type                                               text\n",
      "0   ham  Hope you are having a good week. Just checking in\n",
      "1   ham                            K..give back my thanks.\n",
      "2   ham        Am also doing in cbe only. But have to pay.\n",
      "3  spam  complimentary 4 STAR Ibiza Holiday or £10,000 ...\n",
      "4  spam  okmail: Dear Dave this is your final notice to...\n",
      "5   ham  Aiya we discuss later lar... Pick u up at 4 is...\n",
      "6   ham                             Are you this much buzy\n",
      "7   ham                    Please ask mummy to call father\n",
      "8  spam  Marvel Mobile Play the official Ultimate Spide...\n",
      "9   ham     fyi I'm at usf now, swing by the room whenever\n"
     ]
    }
   ],
   "source": [
    "#examine first ten rows\n",
    "print(df.head(10))"
   ]
  },
  {
   "cell_type": "markdown",
   "metadata": {},
   "source": [
    "# Explore the data\n"
   ]
  },
  {
   "cell_type": "code",
   "execution_count": 168,
   "metadata": {},
   "outputs": [
    {
     "data": {
      "text/plain": [
       "(5559, 2)"
      ]
     },
     "execution_count": 168,
     "metadata": {},
     "output_type": "execute_result"
    }
   ],
   "source": [
    "#find number of rows and columns\n",
    "df.shape"
   ]
  },
  {
   "cell_type": "code",
   "execution_count": 170,
   "metadata": {},
   "outputs": [
    {
     "data": {
      "text/plain": [
       "ham     4812\n",
       "spam     747\n",
       "Name: type, dtype: int64"
      ]
     },
     "execution_count": 170,
     "metadata": {},
     "output_type": "execute_result"
    }
   ],
   "source": [
    "#find proportions of ham and spam\n",
    "#this adds up to 5559 which confirms no missing values\n",
    "df.type.value_counts()"
   ]
  },
  {
   "cell_type": "code",
   "execution_count": 171,
   "metadata": {},
   "outputs": [
    {
     "data": {
      "text/plain": [
       "(403, 2)"
      ]
     },
     "execution_count": 171,
     "metadata": {},
     "output_type": "execute_result"
    }
   ],
   "source": [
    "# Check for duplicates\n",
    "#403 rows appear more than once\n",
    "df[df.duplicated()].shape"
   ]
  },
  {
   "cell_type": "code",
   "execution_count": 172,
   "metadata": {},
   "outputs": [
    {
     "name": "stdout",
     "output_type": "stream",
     "text": [
      "(5156, 2)\n"
     ]
    }
   ],
   "source": [
    "#Keep one instance of each message\n",
    "df=df.drop_duplicates(['type','text'],keep='first')\n",
    "print(df.shape)"
   ]
  },
  {
   "cell_type": "code",
   "execution_count": 173,
   "metadata": {},
   "outputs": [
    {
     "data": {
      "text/plain": [
       "ham     4503\n",
       "spam     653\n",
       "Name: type, dtype: int64"
      ]
     },
     "execution_count": 173,
     "metadata": {},
     "output_type": "execute_result"
    }
   ],
   "source": [
    "df.type.value_counts()"
   ]
  },
  {
   "cell_type": "code",
   "execution_count": 189,
   "metadata": {},
   "outputs": [
    {
     "data": {
      "text/plain": [
       "0"
      ]
     },
     "execution_count": 189,
     "metadata": {},
     "output_type": "execute_result"
    }
   ],
   "source": [
    "#no missing values in the text column\n",
    "df['text'].isnull().sum()"
   ]
  },
  {
   "cell_type": "markdown",
   "metadata": {},
   "source": [
    "# Clean the data"
   ]
  },
  {
   "cell_type": "markdown",
   "metadata": {},
   "source": [
    "## Remove URL, email, phone, and currency"
   ]
  },
  {
   "cell_type": "code",
   "execution_count": 191,
   "metadata": {},
   "outputs": [],
   "source": [
    "#source of url_regex from previous udacity project\n",
    "url_regex = 'http[s]?://(?:[a-zA-Z]|[0-9]|[$-_@.&+]|[!*\\(\\),]|(?:%[0-9a-fA-F][0-9a-fA-F]))+'\n",
    "#obtained from stack overflow\n",
    "email_regex='^([a-zA-Z0-9_\\-\\.]+)@([a-zA-Z0-9_\\-\\.]+)\\.([a-zA-Z]{2,5})$'\n",
    "phone_regex='[\\+]?[0-9 ]{11,14}'\n",
    "currency_regex='[\\$|£|€][0-9\\,]*\\.?\\d{2}'#'|[\\$|£|€]+/-?\\d+(,\\d{3})*(\\.\\d{1,2})?$/'\n",
    "# Write a function that performing basic cleaning on the text data by replacing links, phone numbers, email addresses and currency amounts\n",
    "def clean_text(text):\n",
    "    '''\n",
    "    Cleans the text data by replacing URLs, @-replies, hashtags, and emoji with text placeholders.\n",
    "    \n",
    "    INPUT:\n",
    "    text - (str) text data to be cleaned\n",
    "    \n",
    "    OUTPUT:\n",
    "    text - (str) cleaned text data with placeholders\n",
    "    ''' \n",
    "    #Replace phone numbers\n",
    "    detected_phone = re.findall(phone_regex, text)\n",
    "    #for i in range(0,len(detected_phone)):\n",
    "    for phone in detected_phone:\n",
    "           # if len(phone)>0:\n",
    "        text = text.replace(phone, \" phoneplaceholder \")\n",
    "    # Replace money amounts\n",
    "    \n",
    "    #detected_currency=[]\n",
    "    detected_currency = re.findall(currency_regex, text)\n",
    "    for amount in detected_currency:\n",
    "            text = text.replace(amount,\" cash_amount \")\n",
    "\n",
    "    detected_email = re.findall(email_regex, text)\n",
    "    for amount in detected_email:\n",
    "        text = text.replace(amount,\" email_address \")\n",
    "        \n",
    "   \n",
    "    \n",
    "    return text\n",
    "\n",
    "# Apply the text cleaning to our text column\n",
    "df[\"clean_text\"] = df[\"text\"].apply(lambda x: clean_text(x))\n",
    "\n"
   ]
  },
  {
   "cell_type": "code",
   "execution_count": 192,
   "metadata": {},
   "outputs": [
    {
     "name": "stdout",
     "output_type": "stream",
     "text": [
      "10\n",
      "434\n"
     ]
    }
   ],
   "source": [
    "#check how many of each have changed\n",
    "#ham - 10 entries changed\n",
    "print(df[(df['text']!=df['clean_text']) & (df['type']=='ham')].shape[0])\n",
    "#spam- 434 entries changed\n",
    "print(df[(df['text']!=df['clean_text']) & (df['type']=='spam')].shape[0])"
   ]
  },
  {
   "cell_type": "code",
   "execution_count": 193,
   "metadata": {},
   "outputs": [
    {
     "data": {
      "text/plain": [
       "(5156, 2)"
      ]
     },
     "execution_count": 193,
     "metadata": {},
     "output_type": "execute_result"
    }
   ],
   "source": [
    "# Drop the original text column and rename it back to text\n",
    "sms= df.drop(\"text\", axis=1)\n",
    "sms = sms.rename(columns={\"clean_text\": \"text\", \"type\":\"spam\"})\n",
    "sms.shape"
   ]
  },
  {
   "cell_type": "code",
   "execution_count": 194,
   "metadata": {},
   "outputs": [
    {
     "data": {
      "text/html": [
       "<div>\n",
       "<style scoped>\n",
       "    .dataframe tbody tr th:only-of-type {\n",
       "        vertical-align: middle;\n",
       "    }\n",
       "\n",
       "    .dataframe tbody tr th {\n",
       "        vertical-align: top;\n",
       "    }\n",
       "\n",
       "    .dataframe thead th {\n",
       "        text-align: right;\n",
       "    }\n",
       "</style>\n",
       "<table border=\"1\" class=\"dataframe\">\n",
       "  <thead>\n",
       "    <tr style=\"text-align: right;\">\n",
       "      <th></th>\n",
       "      <th>spam</th>\n",
       "      <th>text</th>\n",
       "    </tr>\n",
       "  </thead>\n",
       "  <tbody>\n",
       "    <tr>\n",
       "      <th>0</th>\n",
       "      <td>0</td>\n",
       "      <td>Hope you are having a good week. Just checking in</td>\n",
       "    </tr>\n",
       "    <tr>\n",
       "      <th>1</th>\n",
       "      <td>0</td>\n",
       "      <td>K..give back my thanks.</td>\n",
       "    </tr>\n",
       "    <tr>\n",
       "      <th>2</th>\n",
       "      <td>0</td>\n",
       "      <td>Am also doing in cbe only. But have to pay.</td>\n",
       "    </tr>\n",
       "    <tr>\n",
       "      <th>3</th>\n",
       "      <td>1</td>\n",
       "      <td>complimentary 4 STAR Ibiza Holiday or  cash_am...</td>\n",
       "    </tr>\n",
       "    <tr>\n",
       "      <th>4</th>\n",
       "      <td>1</td>\n",
       "      <td>okmail: Dear Dave this is your final notice to...</td>\n",
       "    </tr>\n",
       "    <tr>\n",
       "      <th>5</th>\n",
       "      <td>0</td>\n",
       "      <td>Aiya we discuss later lar... Pick u up at 4 is...</td>\n",
       "    </tr>\n",
       "    <tr>\n",
       "      <th>6</th>\n",
       "      <td>0</td>\n",
       "      <td>Are you this much buzy</td>\n",
       "    </tr>\n",
       "    <tr>\n",
       "      <th>7</th>\n",
       "      <td>0</td>\n",
       "      <td>Please ask mummy to call father</td>\n",
       "    </tr>\n",
       "    <tr>\n",
       "      <th>8</th>\n",
       "      <td>1</td>\n",
       "      <td>Marvel Mobile Play the official Ultimate Spide...</td>\n",
       "    </tr>\n",
       "    <tr>\n",
       "      <th>9</th>\n",
       "      <td>0</td>\n",
       "      <td>fyi I'm at usf now, swing by the room whenever</td>\n",
       "    </tr>\n",
       "    <tr>\n",
       "      <th>10</th>\n",
       "      <td>0</td>\n",
       "      <td>Sure thing big man. i have hockey elections at...</td>\n",
       "    </tr>\n",
       "    <tr>\n",
       "      <th>11</th>\n",
       "      <td>0</td>\n",
       "      <td>I anything lor...</td>\n",
       "    </tr>\n",
       "    <tr>\n",
       "      <th>12</th>\n",
       "      <td>0</td>\n",
       "      <td>By march ending, i should be ready. But will c...</td>\n",
       "    </tr>\n",
       "    <tr>\n",
       "      <th>13</th>\n",
       "      <td>0</td>\n",
       "      <td>Hmm well, night night</td>\n",
       "    </tr>\n",
       "    <tr>\n",
       "      <th>14</th>\n",
       "      <td>0</td>\n",
       "      <td>K I'll be sure to get up before noon and see w...</td>\n",
       "    </tr>\n",
       "    <tr>\n",
       "      <th>15</th>\n",
       "      <td>0</td>\n",
       "      <td>Ha ha cool cool chikku chikku:-):-DB-)</td>\n",
       "    </tr>\n",
       "    <tr>\n",
       "      <th>16</th>\n",
       "      <td>0</td>\n",
       "      <td>Darren was saying dat if u meeting da ge den w...</td>\n",
       "    </tr>\n",
       "    <tr>\n",
       "      <th>17</th>\n",
       "      <td>0</td>\n",
       "      <td>He dint tell anything. He is angry on me that ...</td>\n",
       "    </tr>\n",
       "    <tr>\n",
       "      <th>18</th>\n",
       "      <td>0</td>\n",
       "      <td>Up to u... u wan come then come lor... But i d...</td>\n",
       "    </tr>\n",
       "    <tr>\n",
       "      <th>19</th>\n",
       "      <td>1</td>\n",
       "      <td>U can WIN  cash_amount  of Music Gift Vouchers...</td>\n",
       "    </tr>\n",
       "  </tbody>\n",
       "</table>\n",
       "</div>"
      ],
      "text/plain": [
       "    spam                                               text\n",
       "0      0  Hope you are having a good week. Just checking in\n",
       "1      0                            K..give back my thanks.\n",
       "2      0        Am also doing in cbe only. But have to pay.\n",
       "3      1  complimentary 4 STAR Ibiza Holiday or  cash_am...\n",
       "4      1  okmail: Dear Dave this is your final notice to...\n",
       "5      0  Aiya we discuss later lar... Pick u up at 4 is...\n",
       "6      0                             Are you this much buzy\n",
       "7      0                    Please ask mummy to call father\n",
       "8      1  Marvel Mobile Play the official Ultimate Spide...\n",
       "9      0     fyi I'm at usf now, swing by the room whenever\n",
       "10     0  Sure thing big man. i have hockey elections at...\n",
       "11     0                                  I anything lor...\n",
       "12     0  By march ending, i should be ready. But will c...\n",
       "13     0                             Hmm well, night night \n",
       "14     0  K I'll be sure to get up before noon and see w...\n",
       "15     0             Ha ha cool cool chikku chikku:-):-DB-)\n",
       "16     0  Darren was saying dat if u meeting da ge den w...\n",
       "17     0  He dint tell anything. He is angry on me that ...\n",
       "18     0  Up to u... u wan come then come lor... But i d...\n",
       "19     1  U can WIN  cash_amount  of Music Gift Vouchers..."
      ]
     },
     "execution_count": 194,
     "metadata": {},
     "output_type": "execute_result"
    }
   ],
   "source": [
    "#change the ham/spam flags to 1 and 0\n",
    "sms.spam=sms.spam.replace({'ham':0,'spam':1})\n",
    "\n",
    "sms.head(20)"
   ]
  },
  {
   "cell_type": "code",
   "execution_count": 196,
   "metadata": {},
   "outputs": [
    {
     "data": {
      "text/plain": [
       "0    4503\n",
       "1     653\n",
       "Name: spam, dtype: int64"
      ]
     },
     "execution_count": 196,
     "metadata": {},
     "output_type": "execute_result"
    }
   ],
   "source": [
    "#volumes are unchanged\n",
    "sms.spam.value_counts()"
   ]
  },
  {
   "cell_type": "markdown",
   "metadata": {},
   "source": [
    "# Word Clouds for Ham and Spam SMS"
   ]
  },
  {
   "cell_type": "markdown",
   "metadata": {},
   "source": [
    "We use Wordclouds to visualise how ham text might be different from spam texts- we look at the most common 100 words in each. From the visualisation, there does seem to be a difference between ham and spam, which looks like good news for our model later on!"
   ]
  },
  {
   "cell_type": "code",
   "execution_count": 197,
   "metadata": {},
   "outputs": [],
   "source": [
    "#Normalize the data- keep only words and make lower case\n",
    "sms['text_norm']=sms['text'].apply(lambda x: re.sub(r\"[^a-zA-Z0-9]\", \" \",x).lower())\n"
   ]
  },
  {
   "cell_type": "code",
   "execution_count": 198,
   "metadata": {},
   "outputs": [
    {
     "data": {
      "image/png": "[encoded data removed]",
      "text/plain": [
       "<matplotlib.figure.Figure at 0x7fe8dedd1898>"
      ]
     },
     "metadata": {
      "needs_background": "light"
     },
     "output_type": "display_data"
    }
   ],
   "source": [
    "ham_words=sms[sms['spam']==0]['text_norm'].values\n",
    "#Instantiate wordcloud object and use method to feed it our corpus\n",
    "\n",
    "wc = WordCloud(  width=1000, \n",
    "    height=1000, \n",
    "    stopwords=stopwords.words(\"english\"),\n",
    "    min_font_size=8,\n",
    "    max_words=100,\n",
    "    background_color='white',\n",
    "    colormap='Set3').generate_from_text(str(ham_words))\n",
    "\n",
    "\n",
    "#Turn axis off to get rid of axis numbers\n",
    "plt.figure(figsize = (10,10))\n",
    "plt.imshow(wc, interpolation='nearest')\n",
    "plt.axis('off')\n",
    "plt.show()"
   ]
  },
  {
   "cell_type": "code",
   "execution_count": 199,
   "metadata": {},
   "outputs": [
    {
     "data": {
      "image/png": "[encoded data removed]",
      "text/plain": [
       "<matplotlib.figure.Figure at 0x7fe8df285518>"
      ]
     },
     "metadata": {
      "needs_background": "light"
     },
     "output_type": "display_data"
    }
   ],
   "source": [
    "spam_words=sms[sms['spam']==1]['text_norm'].values\n",
    "#Instantiate wordcloud object and use method to feed it our corpus\n",
    "wc = WordCloud( width=1000, \n",
    "    height=1000, \n",
    "    stopwords=stopwords.words(\"english\"),\n",
    "    min_font_size=8,\n",
    "    max_words=100,\n",
    "    background_color='white',\n",
    "    colormap='Set3').generate_from_text(str(spam_words))\n",
    "\n",
    "#Use matplotlib.pyplot to display the fitted wordcloud\n",
    "#Turn axis off to get rid of axis numbers\n",
    "plt.figure(figsize = (10,10))\n",
    "plt.imshow(wc, interpolation='nearest')\n",
    "plt.axis('off')\n",
    "plt.show()"
   ]
  },
  {
   "cell_type": "markdown",
   "metadata": {},
   "source": [
    "The placeholders seem to be quite common in the spam texts- this may help us in the model later on."
   ]
  },
  {
   "cell_type": "markdown",
   "metadata": {},
   "source": [
    "# Data Pre-Processing"
   ]
  },
  {
   "cell_type": "markdown",
   "metadata": {},
   "source": [
    "## Normalize and Tokenize the data"
   ]
  },
  {
   "cell_type": "code",
   "execution_count": 200,
   "metadata": {},
   "outputs": [],
   "source": [
    "# We want to normalize the data to all lower case- \n",
    "#we also remove words in the stopwords list\n",
    "def tokenize(text):\n",
    "    #lower case\n",
    "    text=text.lower()\n",
    "    #keep only text and numericals\n",
    "    text= re.sub(r\"[^a-zA-Z0-9]\", \" \", text)\n",
    "    tokens=word_tokenize(text)\n",
    "    tokens = [WordNetLemmatizer().lemmatize(word) for word in tokens if word not in stopwords.words(\"english\")]\n",
    "    return tokens\n",
    "\n"
   ]
  },
  {
   "cell_type": "markdown",
   "metadata": {},
   "source": [
    "We can check the tokenization of the first few texts."
   ]
  },
  {
   "cell_type": "code",
   "execution_count": 16,
   "metadata": {},
   "outputs": [
    {
     "name": "stdout",
     "output_type": "stream",
     "text": [
      "['hope', 'good', 'week', 'checking']\n",
      "['k', 'give', 'back', 'thanks']\n",
      "['also', 'cbe', 'pay']\n",
      "['complimentary', '4', 'star', 'ibiza', 'holiday', 'cash', 'amount', 'cash', 'need', 'urgent', 'collection', 'phoneplaceholder', 'landline', 'lose', 'box434sk38wp150ppm18']\n",
      "['okmail', 'dear', 'dave', 'final', 'notice', 'collect', '4', 'tenerife', 'holiday', '5000', 'cash', 'award', 'call', 'phoneplaceholder', 'landline', 'tc', 'sae', 'box326', 'cw25wx', '150ppm']\n",
      "['aiya', 'discus', 'later', 'lar', 'pick', 'u', '4']\n",
      "['much', 'buzy']\n",
      "['please', 'ask', 'mummy', 'call', 'father']\n",
      "['marvel', 'mobile', 'play', 'official', 'ultimate', 'spider', 'man', 'game', 'cash', 'amount', 'ur', 'mobile', 'right', 'text', 'spider', '83338', 'game', 'send', 'u', 'free', '8ball', 'wallpaper']\n",
      "['fyi', 'usf', 'swing', 'room', 'whenever']\n"
     ]
    }
   ],
   "source": [
    "for i in range(0,10):\n",
    "    print(tokenize(sms['text'][i]))"
   ]
  },
  {
   "cell_type": "markdown",
   "metadata": {},
   "source": [
    "# Feature Engineering"
   ]
  },
  {
   "cell_type": "markdown",
   "metadata": {},
   "source": [
    "Here, we create some new features, 1-0 flag, a count, or a float.\n",
    "\n",
    "We include whether or not the original text was in all caps, the number of words in the text, the number of latin letters, and the proportion of the text that was latin letters."
   ]
  },
  {
   "cell_type": "markdown",
   "metadata": {},
   "source": [
    "# New text-based features"
   ]
  },
  {
   "cell_type": "code",
   "execution_count": 225,
   "metadata": {},
   "outputs": [],
   "source": [
    "#denotes if the sms was entirely in upper case\n",
    "def upper_flag(text):\n",
    "    '''\n",
    "    Uses a 1-0 flag to indicate whether the original text of the SMS was all in upper case    \n",
    "    INPUT:\n",
    "    text - (str) text data to look at \n",
    "    \n",
    "    OUTPUT:\n",
    "    upper_case_flag- 1-0 flag\n",
    "    ''' \n",
    "    text_upper=re.sub(r\"[^a-zA-Z]\", \"\",text.upper())\n",
    "    upper_case_flag=0\n",
    "    if text_upper==re.sub(r\"[^a-zA-Z]\", \"\",text) and len(text_upper)>0:\n",
    "        upper_case_flag=1\n",
    "    return upper_case_flag\n",
    "\n",
    "#count the number of words\n",
    "def num_of_words(text):\n",
    "    '''\n",
    "    Counts the number of words in the SMS   \n",
    "    INPUT:\n",
    "    text - (str) text data to look at \n",
    "    \n",
    "    OUTPUT:\n",
    "    number of words (float)\n",
    "    ''' \n",
    "    words=text.split()\n",
    "    word_count=len(words)\n",
    "    return word_count\n",
    "\n",
    "#count the number of alphabet characters\n",
    "\n",
    "def num_of_alphabet(text):\n",
    "    '''\n",
    "    Counts the number of latin alphabet characters in the SMS   \n",
    "    INPUT:\n",
    "    text - (str) text data to look at \n",
    "    \n",
    "    OUTPUT:\n",
    "    number of characters (float)\n",
    "    ''' \n",
    "    text_alpha_only=re.sub(r\"[^a-zA-Z]\", \"\",text)\n",
    "    return len(text_alpha_only)\n",
    "\n",
    "#number of alphabet characters as a proportion of length of text\n",
    "def prop_of_alphabet(text):\n",
    "    '''\n",
    "    Counts the proportion of latin alphabet characters in the SMS   \n",
    "    INPUT:\n",
    "    text - (str) text data to look at \n",
    "    \n",
    "    OUTPUT:\n",
    "    proportion of characters (float)\n",
    "    ''' \n",
    "    text_alpha_only=re.sub(r\"[^a-zA-Z]\", \"\",text)\n",
    "    return len(text_alpha_only)/len(text)"
   ]
  },
  {
   "cell_type": "code",
   "execution_count": 226,
   "metadata": {},
   "outputs": [
    {
     "data": {
      "text/plain": [
       "111"
      ]
     },
     "execution_count": 226,
     "metadata": {},
     "output_type": "execute_result"
    }
   ],
   "source": [
    "#quick spot check\n",
    "num_of_alphabet(sms.text.iloc[450])"
   ]
  },
  {
   "cell_type": "code",
   "execution_count": 227,
   "metadata": {},
   "outputs": [],
   "source": [
    "#create class function to do all these counts at once\n",
    "class smscounter(BaseEstimator,TransformerMixin):\n",
    "    def sms_count(self,text):\n",
    "        up_case=upper_flag(text)\n",
    "        num_words=num_of_words(text)\n",
    "        num_alpha_char=num_of_alphabet(text)\n",
    "        prop_alpha_char=prop_of_alphabet(text)\n",
    "            \n",
    "        features = pd.Series({\"up_case\": up_case, \n",
    "                              \"num_of_words\": num_words, \n",
    "                              \"num_alpha_char\": num_alpha_char, \n",
    "                              \"prop_alpha_char\": prop_alpha_char\n",
    "                                  })\n",
    "        return features\n",
    "    def fit(self, X, y=None):\n",
    "        return self\n",
    "    \n",
    "    def transform(self, X):\n",
    "        X_counts = pd.Series(X).apply(self.sms_count)\n",
    "        return X_counts.astype(float)"
   ]
  },
  {
   "cell_type": "code",
   "execution_count": 206,
   "metadata": {},
   "outputs": [],
   "source": [
    "#test it out\n",
    "sms_counts=smscounter()\n",
    "\n",
    "test_transformed = sms_counts.fit_transform(sms['text'])"
   ]
  },
  {
   "cell_type": "code",
   "execution_count": 21,
   "metadata": {},
   "outputs": [
    {
     "data": {
      "text/html": [
       "<div>\n",
       "<style scoped>\n",
       "    .dataframe tbody tr th:only-of-type {\n",
       "        vertical-align: middle;\n",
       "    }\n",
       "\n",
       "    .dataframe tbody tr th {\n",
       "        vertical-align: top;\n",
       "    }\n",
       "\n",
       "    .dataframe thead th {\n",
       "        text-align: right;\n",
       "    }\n",
       "</style>\n",
       "<table border=\"1\" class=\"dataframe\">\n",
       "  <thead>\n",
       "    <tr style=\"text-align: right;\">\n",
       "      <th></th>\n",
       "      <th>up_case</th>\n",
       "      <th>num_of_words</th>\n",
       "      <th>num_alpha_char</th>\n",
       "      <th>prop_alpha_char</th>\n",
       "    </tr>\n",
       "  </thead>\n",
       "  <tbody>\n",
       "    <tr>\n",
       "      <th>0</th>\n",
       "      <td>0.0</td>\n",
       "      <td>10.0</td>\n",
       "      <td>39.0</td>\n",
       "      <td>0.795918</td>\n",
       "    </tr>\n",
       "    <tr>\n",
       "      <th>1</th>\n",
       "      <td>0.0</td>\n",
       "      <td>4.0</td>\n",
       "      <td>17.0</td>\n",
       "      <td>0.739130</td>\n",
       "    </tr>\n",
       "    <tr>\n",
       "      <th>2</th>\n",
       "      <td>0.0</td>\n",
       "      <td>10.0</td>\n",
       "      <td>32.0</td>\n",
       "      <td>0.744186</td>\n",
       "    </tr>\n",
       "    <tr>\n",
       "      <th>3</th>\n",
       "      <td>0.0</td>\n",
       "      <td>21.0</td>\n",
       "      <td>123.0</td>\n",
       "      <td>0.768750</td>\n",
       "    </tr>\n",
       "    <tr>\n",
       "      <th>4</th>\n",
       "      <td>0.0</td>\n",
       "      <td>27.0</td>\n",
       "      <td>122.0</td>\n",
       "      <td>0.734940</td>\n",
       "    </tr>\n",
       "  </tbody>\n",
       "</table>\n",
       "</div>"
      ],
      "text/plain": [
       "   up_case  num_of_words  num_alpha_char  prop_alpha_char\n",
       "0      0.0          10.0            39.0         0.795918\n",
       "1      0.0           4.0            17.0         0.739130\n",
       "2      0.0          10.0            32.0         0.744186\n",
       "3      0.0          21.0           123.0         0.768750\n",
       "4      0.0          27.0           122.0         0.734940"
      ]
     },
     "execution_count": 21,
     "metadata": {},
     "output_type": "execute_result"
    }
   ],
   "source": [
    "test_transformed.head()"
   ]
  },
  {
   "cell_type": "code",
   "execution_count": 208,
   "metadata": {},
   "outputs": [
    {
     "data": {
      "text/plain": [
       "0.0    5066\n",
       "1.0      90\n",
       "Name: up_case, dtype: int64"
      ]
     },
     "execution_count": 208,
     "metadata": {},
     "output_type": "execute_result"
    }
   ],
   "source": [
    "#this and follow cells show distribution\n",
    "test_transformed.up_case.value_counts()"
   ]
  },
  {
   "cell_type": "code",
   "execution_count": 211,
   "metadata": {},
   "outputs": [
    {
     "data": {
      "text/plain": [
       "<matplotlib.axes._subplots.AxesSubplot at 0x7fe8de516cc0>"
      ]
     },
     "execution_count": 211,
     "metadata": {},
     "output_type": "execute_result"
    },
    {
     "data": {
      "image/png": "[encoded data removed]",
      "text/plain": [
       "<matplotlib.figure.Figure at 0x7fe8de91fef0>"
      ]
     },
     "metadata": {
      "needs_background": "light"
     },
     "output_type": "display_data"
    }
   ],
   "source": [
    "test_transformed['num_of_words'].hist(bins=20)"
   ]
  },
  {
   "cell_type": "code",
   "execution_count": 212,
   "metadata": {},
   "outputs": [
    {
     "data": {
      "text/plain": [
       "<matplotlib.axes._subplots.AxesSubplot at 0x7fe8dedad668>"
      ]
     },
     "execution_count": 212,
     "metadata": {},
     "output_type": "execute_result"
    },
    {
     "data": {
      "image/png": "[encoded data removed]",
      "text/plain": [
       "<matplotlib.figure.Figure at 0x7fe8deccbf98>"
      ]
     },
     "metadata": {
      "needs_background": "light"
     },
     "output_type": "display_data"
    }
   ],
   "source": [
    "test_transformed['num_alpha_char'].hist(bins=20)"
   ]
  },
  {
   "cell_type": "code",
   "execution_count": 213,
   "metadata": {},
   "outputs": [
    {
     "data": {
      "text/plain": [
       "<matplotlib.axes._subplots.AxesSubplot at 0x7fe8df1ca438>"
      ]
     },
     "execution_count": 213,
     "metadata": {},
     "output_type": "execute_result"
    },
    {
     "data": {
      "image/png": "[encoded data removed]",
      "text/plain": [
       "<matplotlib.figure.Figure at 0x7fe8df5480f0>"
      ]
     },
     "metadata": {
      "needs_background": "light"
     },
     "output_type": "display_data"
    }
   ],
   "source": [
    "test_transformed['prop_alpha_char'].hist(bins=20)"
   ]
  },
  {
   "cell_type": "markdown",
   "metadata": {},
   "source": [
    "# Modelling"
   ]
  },
  {
   "cell_type": "markdown",
   "metadata": {},
   "source": [
    "We look at one model type first with a Random Forest Classifier with default parameters, then we check other classifiers before finally using grid search to test the hyperparameters.\n",
    "\n",
    "We will use accuracy, precision, recall and F1-score to evaluate the models, each of which will use the same training and test data sets."
   ]
  },
  {
   "cell_type": "markdown",
   "metadata": {},
   "source": [
    "## Split into train and test sets"
   ]
  },
  {
   "cell_type": "code",
   "execution_count": 215,
   "metadata": {},
   "outputs": [],
   "source": [
    "X=sms['text']\n",
    "Y=sms['spam']"
   ]
  },
  {
   "cell_type": "code",
   "execution_count": 218,
   "metadata": {},
   "outputs": [
    {
     "name": "stdout",
     "output_type": "stream",
     "text": [
      "0    3382\n",
      "1     485\n",
      "Name: spam, dtype: int64\n",
      "0    1121\n",
      "1     168\n",
      "Name: spam, dtype: int64\n"
     ]
    }
   ],
   "source": [
    "# Train test split\n",
    "X_train, X_test, Y_train, Y_test = train_test_split(X, Y, random_state=23)\n",
    "#Ensure proportions are roughly similar\n",
    "print(Y_train.value_counts())\n",
    "print(Y_test.value_counts())"
   ]
  },
  {
   "cell_type": "code",
   "execution_count": 220,
   "metadata": {},
   "outputs": [],
   "source": [
    "#intialise the pipeline\n",
    "pipeline=Pipeline([\n",
    "    ('features',FeatureUnion([\n",
    "        ('text_pipeline',Pipeline([\n",
    "            ('vect',CountVectorizer(tokenizer=tokenize)),\n",
    "            ('tfidf',TfidfTransformer())\n",
    "        ])),\n",
    "        ('sms_counts',smscounter())\n",
    "    ])),\n",
    "    ('clf',RandomForestClassifier())\n",
    "])"
   ]
  },
  {
   "cell_type": "code",
   "execution_count": 221,
   "metadata": {},
   "outputs": [
    {
     "data": {
      "text/plain": [
       "Pipeline(memory=None,\n",
       "     steps=[('features', FeatureUnion(n_jobs=1,\n",
       "       transformer_list=[('text_pipeline', Pipeline(memory=None,\n",
       "     steps=[('vect', CountVectorizer(analyzer='word', binary=False, decode_error='strict',\n",
       "        dtype=<class 'numpy.int64'>, encoding='utf-8', input='content',\n",
       "        lowercase=True, max_d...n_jobs=1,\n",
       "            oob_score=False, random_state=None, verbose=0,\n",
       "            warm_start=False))])"
      ]
     },
     "execution_count": 221,
     "metadata": {},
     "output_type": "execute_result"
    }
   ],
   "source": [
    "pipeline.fit(X_train,Y_train)"
   ]
  },
  {
   "cell_type": "code",
   "execution_count": 222,
   "metadata": {},
   "outputs": [],
   "source": [
    "# Make predictions using the trained model\n",
    "Y_pred = pipeline.predict(X_test)"
   ]
  },
  {
   "cell_type": "code",
   "execution_count": 229,
   "metadata": {},
   "outputs": [],
   "source": [
    "# create function to display the results\n",
    "def display_results(y_test,y_pred):\n",
    "    '''\n",
    "    Displays the accuracy and confusion matrix of the model test   \n",
    "    INPUT:\n",
    "    y_test, y_pred- test outcome data and prediction outcome data \n",
    "    \n",
    "    OUTPUT:\n",
    "    confusion matrix and accuracy (printout)\n",
    "    ''' \n",
    "    labels=np.unique(y_pred)\n",
    "    confusion_mat=confusion_matrix(y_test,y_pred,labels=labels)\n",
    "    accuracy=(y_pred==y_test).mean()\n",
    "    print(\"labels\",labels)\n",
    "    print(\"Confusion Matrix: \\n\",confusion_mat)\n",
    "    print(\"Accuracy:\",accuracy)"
   ]
  },
  {
   "cell_type": "code",
   "execution_count": 230,
   "metadata": {},
   "outputs": [
    {
     "name": "stdout",
     "output_type": "stream",
     "text": [
      "labels [0 1]\n",
      "Confusion Matrix: \n",
      " [[1121    0]\n",
      " [  37  131]]\n",
      "Accuracy: 0.971295577967\n"
     ]
    }
   ],
   "source": [
    "display_results(Y_test,Y_pred)"
   ]
  },
  {
   "cell_type": "markdown",
   "metadata": {},
   "source": [
    "97% accuracy is excellent as a start, but we may want to improve as any spam SMS is annoying."
   ]
  },
  {
   "cell_type": "code",
   "execution_count": 233,
   "metadata": {},
   "outputs": [],
   "source": [
    "#see how this accuracy compares to the training set\n",
    "Y_pred_train=pipeline.predict(X_train)"
   ]
  },
  {
   "cell_type": "code",
   "execution_count": 232,
   "metadata": {},
   "outputs": [
    {
     "name": "stdout",
     "output_type": "stream",
     "text": [
      "labels [0 1]\n",
      "Confusion Matrix: \n",
      " [[3382    7]\n",
      " [   0  478]]\n",
      "Accuracy: 0.998189811223\n"
     ]
    }
   ],
   "source": [
    "display_results(Y_pred_train,Y_train)"
   ]
  },
  {
   "cell_type": "markdown",
   "metadata": {},
   "source": [
    "Almost 100% accuracy on training dataset which is expected"
   ]
  },
  {
   "cell_type": "code",
   "execution_count": 234,
   "metadata": {},
   "outputs": [
    {
     "name": "stdout",
     "output_type": "stream",
     "text": [
      "             precision    recall  f1-score   support\n",
      "\n",
      "          0       0.97      1.00      0.98      1121\n",
      "          1       1.00      0.78      0.88       168\n",
      "\n",
      "avg / total       0.97      0.97      0.97      1289\n",
      "\n"
     ]
    }
   ],
   "source": [
    "print(classification_report(Y_test, Y_pred))"
   ]
  },
  {
   "cell_type": "markdown",
   "metadata": {},
   "source": [
    "These outcomes are pretty good, but we have work to do on the recall. Let's try some other classifiers and see how they compare. First, we create a function to allow us to compare classifiers easily."
   ]
  },
  {
   "cell_type": "code",
   "execution_count": 235,
   "metadata": {},
   "outputs": [],
   "source": [
    "def new_classifier(classifier):\n",
    "    '''\n",
    "    Runs and evaulates the model with the specified classifier\n",
    "    INPUT:\n",
    "    classifier type, X, Y \n",
    "    \n",
    "    OUTPUT:\n",
    "    confusion matrix and accuracy (printout)\n",
    "    ''' \n",
    "    pipeline=Pipeline([\n",
    "    ('features',FeatureUnion([\n",
    "        ('text_pipeline',Pipeline([\n",
    "            ('vect',CountVectorizer(tokenizer=tokenize)),\n",
    "            ('tfidf',TfidfTransformer())\n",
    "        ])),\n",
    "                ('sms_counts',smscounter())\n",
    "                            ])),\n",
    "                ('clf',classifier)\n",
    "                        ])\n",
    "    X_train, X_test, Y_train, Y_test = train_test_split(X, Y, random_state=23)\n",
    "    pipeline.fit(X_train, Y_train)\n",
    "    Y_pred = pipeline.predict(X_test)\n",
    "    \n",
    "    display_results(Y_test,Y_pred)\n",
    "    print(classification_report(Y_test, Y_pred))\n",
    "    return pipeline"
   ]
  },
  {
   "cell_type": "markdown",
   "metadata": {},
   "source": [
    "## Decision Tree"
   ]
  },
  {
   "cell_type": "code",
   "execution_count": 236,
   "metadata": {},
   "outputs": [
    {
     "name": "stdout",
     "output_type": "stream",
     "text": [
      "labels [0 1]\n",
      "Confusion Matrix: \n",
      " [[1113    8]\n",
      " [  29  139]]\n",
      "Accuracy: 0.971295577967\n",
      "             precision    recall  f1-score   support\n",
      "\n",
      "          0       0.97      0.99      0.98      1121\n",
      "          1       0.95      0.83      0.88       168\n",
      "\n",
      "avg / total       0.97      0.97      0.97      1289\n",
      "\n"
     ]
    },
    {
     "data": {
      "text/plain": [
       "Pipeline(memory=None,\n",
       "     steps=[('features', FeatureUnion(n_jobs=1,\n",
       "       transformer_list=[('text_pipeline', Pipeline(memory=None,\n",
       "     steps=[('vect', CountVectorizer(analyzer='word', binary=False, decode_error='strict',\n",
       "        dtype=<class 'numpy.int64'>, encoding='utf-8', input='content',\n",
       "        lowercase=True, max_d...      min_weight_fraction_leaf=0.0, presort=False, random_state=None,\n",
       "            splitter='best'))])"
      ]
     },
     "execution_count": 236,
     "metadata": {},
     "output_type": "execute_result"
    }
   ],
   "source": [
    "new_classifier(DecisionTreeClassifier())"
   ]
  },
  {
   "cell_type": "markdown",
   "metadata": {},
   "source": [
    "## Logistic Regression "
   ]
  },
  {
   "cell_type": "code",
   "execution_count": 238,
   "metadata": {},
   "outputs": [
    {
     "name": "stdout",
     "output_type": "stream",
     "text": [
      "labels [0 1]\n",
      "Confusion Matrix: \n",
      " [[1116    5]\n",
      " [  42  126]]\n",
      "Accuracy: 0.963537626067\n",
      "             precision    recall  f1-score   support\n",
      "\n",
      "          0       0.96      1.00      0.98      1121\n",
      "          1       0.96      0.75      0.84       168\n",
      "\n",
      "avg / total       0.96      0.96      0.96      1289\n",
      "\n"
     ]
    },
    {
     "data": {
      "text/plain": [
       "Pipeline(memory=None,\n",
       "     steps=[('features', FeatureUnion(n_jobs=1,\n",
       "       transformer_list=[('text_pipeline', Pipeline(memory=None,\n",
       "     steps=[('vect', CountVectorizer(analyzer='word', binary=False, decode_error='strict',\n",
       "        dtype=<class 'numpy.int64'>, encoding='utf-8', input='content',\n",
       "        lowercase=True, max_d...ty='l2', random_state=None, solver='liblinear', tol=0.0001,\n",
       "          verbose=0, warm_start=False))])"
      ]
     },
     "execution_count": 238,
     "metadata": {},
     "output_type": "execute_result"
    }
   ],
   "source": [
    "new_classifier(LogisticRegression())"
   ]
  },
  {
   "cell_type": "markdown",
   "metadata": {},
   "source": [
    "## k Nearest Neighbors "
   ]
  },
  {
   "cell_type": "code",
   "execution_count": 240,
   "metadata": {},
   "outputs": [
    {
     "name": "stdout",
     "output_type": "stream",
     "text": [
      "labels [0 1]\n",
      "Confusion Matrix: \n",
      " [[1071   50]\n",
      " [  63  105]]\n",
      "Accuracy: 0.912335143522\n",
      "             precision    recall  f1-score   support\n",
      "\n",
      "          0       0.94      0.96      0.95      1121\n",
      "          1       0.68      0.62      0.65       168\n",
      "\n",
      "avg / total       0.91      0.91      0.91      1289\n",
      "\n"
     ]
    },
    {
     "data": {
      "text/plain": [
       "Pipeline(memory=None,\n",
       "     steps=[('features', FeatureUnion(n_jobs=1,\n",
       "       transformer_list=[('text_pipeline', Pipeline(memory=None,\n",
       "     steps=[('vect', CountVectorizer(analyzer='word', binary=False, decode_error='strict',\n",
       "        dtype=<class 'numpy.int64'>, encoding='utf-8', input='content',\n",
       "        lowercase=True, max_d...owski',\n",
       "           metric_params=None, n_jobs=1, n_neighbors=5, p=2,\n",
       "           weights='uniform'))])"
      ]
     },
     "execution_count": 240,
     "metadata": {},
     "output_type": "execute_result"
    }
   ],
   "source": [
    "new_classifier(KNeighborsClassifier())"
   ]
  },
  {
   "cell_type": "markdown",
   "metadata": {},
   "source": []
  },
  {
   "cell_type": "markdown",
   "metadata": {},
   "source": [
    "Using all these, it looks like the Decision Tree model is the best choice, considering all metrics."
   ]
  },
  {
   "cell_type": "markdown",
   "metadata": {},
   "source": [
    "## Tuning model with GridSearch and Hyperparameters "
   ]
  },
  {
   "cell_type": "markdown",
   "metadata": {},
   "source": [
    "In the next steps, we determine what parameters we can tune and run a selection of them through Grid Search to tune the model further- as stated above, we use the decision tree classifier as it appeared to perform best."
   ]
  },
  {
   "cell_type": "code",
   "execution_count": 45,
   "metadata": {},
   "outputs": [],
   "source": [
    "pipeline_tree=Pipeline([\n",
    "    ('features',FeatureUnion([\n",
    "        ('text_pipeline',Pipeline([\n",
    "            ('vect',CountVectorizer(tokenizer=tokenize)),\n",
    "            ('tfidf',TfidfTransformer())\n",
    "        ])),\n",
    "        ('sms_counts',smscounter())\n",
    "    ])),\n",
    "    ('clf',DecisionTreeClassifier())\n",
    "])"
   ]
  },
  {
   "cell_type": "code",
   "execution_count": 241,
   "metadata": {},
   "outputs": [
    {
     "data": {
      "text/plain": [
       "{'memory': None, 'steps': [('features', FeatureUnion(n_jobs=1,\n",
       "          transformer_list=[('text_pipeline', Pipeline(memory=None,\n",
       "        steps=[('vect', CountVectorizer(analyzer='word', binary=False, decode_error='strict',\n",
       "           dtype=<class 'numpy.int64'>, encoding='utf-8', input='content',\n",
       "           lowercase=True, max_df=1.0, max_features=None, min_df=1,\n",
       "           ngram_range=(1, 1), preprocessor=None, stop_words=None,\n",
       "           strip...y=None)), ('tfidf', TfidfTransformer(norm='l2', smooth_idf=True, sublinear_tf=False, use_idf=True))])), ('sms_counts', smscounter())],\n",
       "          transformer_weights=None)),\n",
       "  ('clf',\n",
       "   DecisionTreeClassifier(class_weight=None, criterion='gini', max_depth=None,\n",
       "               max_features=None, max_leaf_nodes=None,\n",
       "               min_impurity_decrease=0.0, min_impurity_split=None,\n",
       "               min_samples_leaf=1, min_samples_split=2,\n",
       "               min_weight_fraction_leaf=0.0, presort=False, random_state=None,\n",
       "               splitter='best'))], 'features': FeatureUnion(n_jobs=1,\n",
       "        transformer_list=[('text_pipeline', Pipeline(memory=None,\n",
       "      steps=[('vect', CountVectorizer(analyzer='word', binary=False, decode_error='strict',\n",
       "         dtype=<class 'numpy.int64'>, encoding='utf-8', input='content',\n",
       "         lowercase=True, max_df=1.0, max_features=None, min_df=1,\n",
       "         ngram_range=(1, 1), preprocessor=None, stop_words=None,\n",
       "         strip...y=None)), ('tfidf', TfidfTransformer(norm='l2', smooth_idf=True, sublinear_tf=False, use_idf=True))])), ('sms_counts', smscounter())],\n",
       "        transformer_weights=None), 'clf': DecisionTreeClassifier(class_weight=None, criterion='gini', max_depth=None,\n",
       "             max_features=None, max_leaf_nodes=None,\n",
       "             min_impurity_decrease=0.0, min_impurity_split=None,\n",
       "             min_samples_leaf=1, min_samples_split=2,\n",
       "             min_weight_fraction_leaf=0.0, presort=False, random_state=None,\n",
       "             splitter='best'), 'features__n_jobs': 1, 'features__transformer_list': [('text_pipeline',\n",
       "   Pipeline(memory=None,\n",
       "        steps=[('vect', CountVectorizer(analyzer='word', binary=False, decode_error='strict',\n",
       "           dtype=<class 'numpy.int64'>, encoding='utf-8', input='content',\n",
       "           lowercase=True, max_df=1.0, max_features=None, min_df=1,\n",
       "           ngram_range=(1, 1), preprocessor=None, stop_words=None,\n",
       "           strip...y=None)), ('tfidf', TfidfTransformer(norm='l2', smooth_idf=True, sublinear_tf=False, use_idf=True))])),\n",
       "  ('sms_counts',\n",
       "   smscounter())], 'features__transformer_weights': None, 'features__text_pipeline': Pipeline(memory=None,\n",
       "      steps=[('vect', CountVectorizer(analyzer='word', binary=False, decode_error='strict',\n",
       "         dtype=<class 'numpy.int64'>, encoding='utf-8', input='content',\n",
       "         lowercase=True, max_df=1.0, max_features=None, min_df=1,\n",
       "         ngram_range=(1, 1), preprocessor=None, stop_words=None,\n",
       "         strip...y=None)), ('tfidf', TfidfTransformer(norm='l2', smooth_idf=True, sublinear_tf=False, use_idf=True))]), 'features__sms_counts': smscounter(), 'features__text_pipeline__memory': None, 'features__text_pipeline__steps': [('vect',\n",
       "   CountVectorizer(analyzer='word', binary=False, decode_error='strict',\n",
       "           dtype=<class 'numpy.int64'>, encoding='utf-8', input='content',\n",
       "           lowercase=True, max_df=1.0, max_features=None, min_df=1,\n",
       "           ngram_range=(1, 1), preprocessor=None, stop_words=None,\n",
       "           strip_accents=None, token_pattern='(?u)\\\\b\\\\w\\\\w+\\\\b',\n",
       "           tokenizer=<function tokenize at 0x7fe8eb72d1e0>, vocabulary=None)),\n",
       "  ('tfidf',\n",
       "   TfidfTransformer(norm='l2', smooth_idf=True, sublinear_tf=False, use_idf=True))], 'features__text_pipeline__vect': CountVectorizer(analyzer='word', binary=False, decode_error='strict',\n",
       "         dtype=<class 'numpy.int64'>, encoding='utf-8', input='content',\n",
       "         lowercase=True, max_df=1.0, max_features=None, min_df=1,\n",
       "         ngram_range=(1, 1), preprocessor=None, stop_words=None,\n",
       "         strip_accents=None, token_pattern='(?u)\\\\b\\\\w\\\\w+\\\\b',\n",
       "         tokenizer=<function tokenize at 0x7fe8eb72d1e0>, vocabulary=None), 'features__text_pipeline__tfidf': TfidfTransformer(norm='l2', smooth_idf=True, sublinear_tf=False, use_idf=True), 'features__text_pipeline__vect__analyzer': 'word', 'features__text_pipeline__vect__binary': False, 'features__text_pipeline__vect__decode_error': 'strict', 'features__text_pipeline__vect__dtype': numpy.int64, 'features__text_pipeline__vect__encoding': 'utf-8', 'features__text_pipeline__vect__input': 'content', 'features__text_pipeline__vect__lowercase': True, 'features__text_pipeline__vect__max_df': 1.0, 'features__text_pipeline__vect__max_features': None, 'features__text_pipeline__vect__min_df': 1, 'features__text_pipeline__vect__ngram_range': (1,\n",
       "  1), 'features__text_pipeline__vect__preprocessor': None, 'features__text_pipeline__vect__stop_words': None, 'features__text_pipeline__vect__strip_accents': None, 'features__text_pipeline__vect__token_pattern': '(?u)\\\\b\\\\w\\\\w+\\\\b', 'features__text_pipeline__vect__tokenizer': <function __main__.tokenize(text)>, 'features__text_pipeline__vect__vocabulary': None, 'features__text_pipeline__tfidf__norm': 'l2', 'features__text_pipeline__tfidf__smooth_idf': True, 'features__text_pipeline__tfidf__sublinear_tf': False, 'features__text_pipeline__tfidf__use_idf': True, 'clf__class_weight': None, 'clf__criterion': 'gini', 'clf__max_depth': None, 'clf__max_features': None, 'clf__max_leaf_nodes': None, 'clf__min_impurity_decrease': 0.0, 'clf__min_impurity_split': None, 'clf__min_samples_leaf': 1, 'clf__min_samples_split': 2, 'clf__min_weight_fraction_leaf': 0.0, 'clf__presort': False, 'clf__random_state': None, 'clf__splitter': 'best'}"
      ]
     },
     "execution_count": 241,
     "metadata": {},
     "output_type": "execute_result"
    }
   ],
   "source": [
    "#get parameter list\n",
    "pipeline_tree.get_params()"
   ]
  },
  {
   "cell_type": "code",
   "execution_count": 65,
   "metadata": {},
   "outputs": [],
   "source": [
    "#choose parameters to put into gridsearch\n",
    "parameters= {\n",
    "    'features__text_pipeline__vect__ngram_range': ((1, 1), (1, 2)),\n",
    "    'features__text_pipeline__vect__min_df': [1, 5],\n",
    "    'features__text_pipeline__tfidf__use_idf':(True,False),\n",
    "    'clf__min_samples_leaf':(1,10)\n",
    "}\n",
    "\n"
   ]
  },
  {
   "cell_type": "code",
   "execution_count": 66,
   "metadata": {},
   "outputs": [
    {
     "data": {
      "text/plain": [
       "GridSearchCV(cv=2, error_score='raise',\n",
       "       estimator=Pipeline(memory=None,\n",
       "     steps=[('features', FeatureUnion(n_jobs=1,\n",
       "       transformer_list=[('text_pipeline', Pipeline(memory=None,\n",
       "     steps=[('vect', CountVectorizer(analyzer='word', binary=False, decode_error='strict',\n",
       "        dtype=<class 'numpy.int64'>, encoding='utf-8', input='content',\n",
       "        lowercase=True, max_d...      min_weight_fraction_leaf=0.0, presort=False, random_state=None,\n",
       "            splitter='best'))]),\n",
       "       fit_params=None, iid=True, n_jobs=-1,\n",
       "       param_grid={'features__text_pipeline__vect__ngram_range': ((1, 1), (1, 2)), 'features__text_pipeline__vect__min_df': [1, 5], 'features__text_pipeline__tfidf__use_idf': (True, False), 'clf__min_samples_leaf': (1, 10)},\n",
       "       pre_dispatch='2*n_jobs', refit=True, return_train_score='warn',\n",
       "       scoring=None, verbose=0)"
      ]
     },
     "execution_count": 66,
     "metadata": {},
     "output_type": "execute_result"
    }
   ],
   "source": [
    "cv=GridSearchCV(pipeline_tree,param_grid=parameters,n_jobs=-1,cv=2)\n",
    "cv.fit(X_train,Y_train)"
   ]
  },
  {
   "cell_type": "code",
   "execution_count": 69,
   "metadata": {},
   "outputs": [
    {
     "data": {
      "text/plain": [
       "{'clf__min_samples_leaf': 1,\n",
       " 'features__text_pipeline__tfidf__use_idf': False,\n",
       " 'features__text_pipeline__vect__min_df': 5,\n",
       " 'features__text_pipeline__vect__ngram_range': (1, 2)}"
      ]
     },
     "execution_count": 69,
     "metadata": {},
     "output_type": "execute_result"
    }
   ],
   "source": [
    "# best parameters chosen\n",
    "cv.best_params_\n",
    "\n",
    "\n"
   ]
  },
  {
   "cell_type": "code",
   "execution_count": 70,
   "metadata": {},
   "outputs": [
    {
     "data": {
      "text/plain": [
       "0.97181277476079653"
      ]
     },
     "execution_count": 70,
     "metadata": {},
     "output_type": "execute_result"
    }
   ],
   "source": [
    "#score of the best-functioning model\n",
    "cv.best_score_"
   ]
  },
  {
   "cell_type": "code",
   "execution_count": 68,
   "metadata": {},
   "outputs": [
    {
     "name": "stdout",
     "output_type": "stream",
     "text": [
      "labels [0 1]\n",
      "Confusion Matrix: \n",
      " [[1114    7]\n",
      " [  22  146]]\n",
      "Accuracy: 0.977501939488\n",
      "             precision    recall  f1-score   support\n",
      "\n",
      "          0       0.98      0.99      0.99      1121\n",
      "          1       0.95      0.87      0.91       168\n",
      "\n",
      "avg / total       0.98      0.98      0.98      1289\n",
      "\n"
     ]
    }
   ],
   "source": [
    "#show accuracy etc\n",
    "y_pred_cv=cv.predict(X_test)\n",
    "\n",
    "display_results(Y_test,y_pred_cv)\n",
    "print(classification_report(Y_test, y_pred_cv))"
   ]
  },
  {
   "cell_type": "markdown",
   "metadata": {},
   "source": [
    "# Evaluation: Area under curve (AUC) and ROC  "
   ]
  },
  {
   "cell_type": "markdown",
   "metadata": {},
   "source": [
    "We have excellent scores for nearly all metrics having altered the parameters using Grid Search so now we look at overall model performance by AUC and plotting the ROC curve."
   ]
  },
  {
   "cell_type": "code",
   "execution_count": 75,
   "metadata": {},
   "outputs": [
    {
     "name": "stdout",
     "output_type": "stream",
     "text": [
      "0.931401597213\n"
     ]
    }
   ],
   "source": [
    "cv_probs=cv.predict_proba(X_test)\n",
    "\n",
    "pos_probs=cv_probs[:,1]\n",
    "\n",
    "# Calculate AUC score\n",
    "auc = roc_auc_score(Y_test, pos_probs)\n",
    "\n",
    "print(auc)"
   ]
  },
  {
   "cell_type": "markdown",
   "metadata": {},
   "source": [
    "A good score!"
   ]
  },
  {
   "cell_type": "code",
   "execution_count": 78,
   "metadata": {},
   "outputs": [
    {
     "data": {
      "image/png": "[encoded data removed]",
      "text/plain": [
       "<matplotlib.figure.Figure at 0x7fe8def668d0>"
      ]
     },
     "metadata": {
      "needs_background": "light"
     },
     "output_type": "display_data"
    }
   ],
   "source": [
    "fpr, tpr, thresholds = roc_curve(Y_test, pos_probs, pos_label=1)\n",
    "\n",
    "fig, ax = plt.subplots(1, 1, figsize=[12,8])\n",
    "plt.plot(fpr, tpr)\n",
    "ax.set_title(\"ROC Curve\", fontsize=20)\n",
    "ax.set_xlabel(\"False Positive Rate\", fontsize=18)\n",
    "ax.set_ylabel(\"True Positive Rate\", fontsize=18)\n",
    "plt.show()"
   ]
  },
  {
   "cell_type": "markdown",
   "metadata": {},
   "source": [
    "The ROC plot is a curve at a sharp angle, meaning that the volume of false positives is low and the classification is excellent at determining spam/ham."
   ]
  },
  {
   "cell_type": "markdown",
   "metadata": {},
   "source": [
    "# Future Work"
   ]
  },
  {
   "cell_type": "markdown",
   "metadata": {},
   "source": [
    "We could analyse which features contributed most to the model- given the changes in the placholders affecting a large volume of spam calls but a small volume of ham, it is likely that these features will be the most important- the version of scikitlearn installed in this workspace did not have the necessary tools to check this so a future version would help."
   ]
  },
  {
   "cell_type": "code",
   "execution_count": 133,
   "metadata": {},
   "outputs": [
    {
     "data": {
      "text/plain": [
       "1579"
      ]
     },
     "execution_count": 133,
     "metadata": {},
     "output_type": "execute_result"
    }
   ],
   "source": [
    "len(cv.named_steps['clf'].tree_.compute_feature_importances(normalize=False))"
   ]
  },
  {
   "cell_type": "code",
   "execution_count": null,
   "metadata": {},
   "outputs": [],
   "source": []
  }
 ],
 "metadata": {
  "kernelspec": {
   "display_name": "Python 3",
   "language": "python",
   "name": "python3"
  },
  "language_info": {
   "codemirror_mode": {
    "name": "ipython",
    "version": 3
   },
   "file_extension": ".py",
   "mimetype": "text/x-python",
   "name": "python",
   "nbconvert_exporter": "python",
   "pygments_lexer": "ipython3",
   "version": "3.6.3"
  }
 },
 "nbformat": 4,
 "nbformat_minor": 2
}
