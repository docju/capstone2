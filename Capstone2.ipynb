{
 "cells": [
  {
   "cell_type": "markdown",
   "metadata": {},
   "source": [
    "# Import libraries and load data"
   ]
  },
  {
   "cell_type": "code",
   "execution_count": 261,
   "metadata": {},
   "outputs": [
    {
     "name": "stdout",
     "output_type": "stream",
     "text": [
      "   type                                               text\n",
      "0   ham  Hope you are having a good week. Just checking in\n",
      "1   ham                            K..give back my thanks.\n",
      "2   ham        Am also doing in cbe only. But have to pay.\n",
      "3  spam  complimentary 4 STAR Ibiza Holiday or £10,000 ...\n",
      "4  spam  okmail: Dear Dave this is your final notice to...\n",
      "5   ham  Aiya we discuss later lar... Pick u up at 4 is...\n",
      "6   ham                             Are you this much buzy\n",
      "7   ham                    Please ask mummy to call father\n",
      "8  spam  Marvel Mobile Play the official Ultimate Spide...\n",
      "9   ham     fyi I'm at usf now, swing by the room whenever\n"
     ]
    }
   ],
   "source": [
    "import matplotlib\n",
    "import pandas as pd\n",
    "import requests\n",
    "import io\n",
    "import numpy as np\n",
    "import matplotlib.pyplot as plt\n",
    "import math\n",
    "import datetime\n",
    "import re\n",
    "from datetime import datetime\n",
    "\n",
    "\n",
    "%matplotlib inline\n",
    "    \n",
    "\n",
    "\n",
    "%matplotlib inline\n",
    "url1 = \"https://raw.githubusercontent.com/docju/capstone2/main/spamraw.csv\"\n",
    "download1 = requests.get(url1).content\n",
    "\n",
    "\n",
    "df = pd.read_csv(io.BytesIO(download1))\n",
    "print(df.head(10))"
   ]
  },
  {
   "cell_type": "markdown",
   "metadata": {},
   "source": [
    "# Explore the data\n"
   ]
  },
  {
   "cell_type": "code",
   "execution_count": 46,
   "metadata": {},
   "outputs": [
    {
     "data": {
      "text/plain": [
       "(5559, 2)"
      ]
     },
     "execution_count": 46,
     "metadata": {},
     "output_type": "execute_result"
    }
   ],
   "source": [
    "df.shape"
   ]
  },
  {
   "cell_type": "code",
   "execution_count": 4,
   "metadata": {},
   "outputs": [
    {
     "data": {
      "text/plain": [
       "ham     4812\n",
       "spam     747\n",
       "Name: type, dtype: int64"
      ]
     },
     "execution_count": 4,
     "metadata": {},
     "output_type": "execute_result"
    }
   ],
   "source": [
    "df.type.value_counts()"
   ]
  },
  {
   "cell_type": "code",
   "execution_count": 263,
   "metadata": {},
   "outputs": [
    {
     "data": {
      "text/plain": [
       "(403, 2)"
      ]
     },
     "execution_count": 263,
     "metadata": {},
     "output_type": "execute_result"
    }
   ],
   "source": [
    "# Check for duplicates\n",
    "df[df.duplicated()].shape"
   ]
  },
  {
   "cell_type": "code",
   "execution_count": 48,
   "metadata": {},
   "outputs": [
    {
     "name": "stdout",
     "output_type": "stream",
     "text": [
      "(5156, 2)\n"
     ]
    }
   ],
   "source": [
    "df=df.drop_duplicates(['type','text'],keep='first')\n",
    "\n",
    "print(df.shape)"
   ]
  },
  {
   "cell_type": "code",
   "execution_count": 49,
   "metadata": {},
   "outputs": [
    {
     "data": {
      "text/plain": [
       "ham     4503\n",
       "spam     653\n",
       "Name: type, dtype: int64"
      ]
     },
     "execution_count": 49,
     "metadata": {},
     "output_type": "execute_result"
    }
   ],
   "source": [
    "df.type.value_counts()"
   ]
  },
  {
   "cell_type": "markdown",
   "metadata": {},
   "source": [
    "# Clean the data"
   ]
  },
  {
   "cell_type": "markdown",
   "metadata": {},
   "source": [
    "## Remove URL, email, phone, and currency"
   ]
  },
  {
   "cell_type": "code",
   "execution_count": 260,
   "metadata": {},
   "outputs": [
    {
     "data": {
      "text/html": [
       "<div>\n",
       "<style scoped>\n",
       "    .dataframe tbody tr th:only-of-type {\n",
       "        vertical-align: middle;\n",
       "    }\n",
       "\n",
       "    .dataframe tbody tr th {\n",
       "        vertical-align: top;\n",
       "    }\n",
       "\n",
       "    .dataframe thead th {\n",
       "        text-align: right;\n",
       "    }\n",
       "</style>\n",
       "<table border=\"1\" class=\"dataframe\">\n",
       "  <thead>\n",
       "    <tr style=\"text-align: right;\">\n",
       "      <th></th>\n",
       "      <th>type</th>\n",
       "      <th>text</th>\n",
       "      <th>clean_text</th>\n",
       "    </tr>\n",
       "  </thead>\n",
       "  <tbody>\n",
       "    <tr>\n",
       "      <th>510</th>\n",
       "      <td>ham</td>\n",
       "      <td>YEH I AM DEF UP4 SOMETHING SAT,JUST GOT PAYED2...</td>\n",
       "      <td>YEH I AM DEF UP4 SOMETHING SAT,JUST GOT PAYED2...</td>\n",
       "    </tr>\n",
       "    <tr>\n",
       "      <th>802</th>\n",
       "      <td>ham</td>\n",
       "      <td>This is ur face test ( 1 2 3 4 5 6 7 8 9  #  )...</td>\n",
       "      <td>This is ur face test ( phoneplaceholder  8 9  ...</td>\n",
       "    </tr>\n",
       "    <tr>\n",
       "      <th>909</th>\n",
       "      <td>ham</td>\n",
       "      <td>Hey pple...$700 or $900 for 5 nights...Excelle...</td>\n",
       "      <td>Hey pple... cash_amount  or  cash_amount  for ...</td>\n",
       "    </tr>\n",
       "    <tr>\n",
       "      <th>1019</th>\n",
       "      <td>ham</td>\n",
       "      <td>Hi this is yijue... It's regarding the 3230 te...</td>\n",
       "      <td>Hi this is yijue... It's regarding the 3230 te...</td>\n",
       "    </tr>\n",
       "    <tr>\n",
       "      <th>1950</th>\n",
       "      <td>ham</td>\n",
       "      <td>MY NO. IN LUTON 0125698789 RING ME IF UR AROUN...</td>\n",
       "      <td>MY NO. IN LUTON phoneplaceholder RING ME IF UR...</td>\n",
       "    </tr>\n",
       "    <tr>\n",
       "      <th>2485</th>\n",
       "      <td>ham</td>\n",
       "      <td>Hey...Great deal...Farm tour 9am to 5pm $95/pa...</td>\n",
       "      <td>Hey...Great deal...Farm tour 9am to 5pm  cash_...</td>\n",
       "    </tr>\n",
       "    <tr>\n",
       "      <th>3157</th>\n",
       "      <td>ham</td>\n",
       "      <td>Hi Jon, Pete here, Ive bin 2 Spain recently &amp; ...</td>\n",
       "      <td>Hi Jon, Pete here, Ive bin 2 Spain recently &amp; ...</td>\n",
       "    </tr>\n",
       "    <tr>\n",
       "      <th>3319</th>\n",
       "      <td>ham</td>\n",
       "      <td>It's Ã© only $140 ard...Ã‰ rest all ard $180 a...</td>\n",
       "      <td>It's Ã© only  cash_amount  ard...Ã‰ rest all a...</td>\n",
       "    </tr>\n",
       "    <tr>\n",
       "      <th>4473</th>\n",
       "      <td>ham</td>\n",
       "      <td>Your bill at 3 is £33.65 so thats not bad!</td>\n",
       "      <td>Your bill at 3 is  cash_amount  so thats not bad!</td>\n",
       "    </tr>\n",
       "    <tr>\n",
       "      <th>4906</th>\n",
       "      <td>ham</td>\n",
       "      <td>Hmm...Bad news...Hype park plaza $700 studio t...</td>\n",
       "      <td>Hmm...Bad news...Hype park plaza  cash_amount ...</td>\n",
       "    </tr>\n",
       "  </tbody>\n",
       "</table>\n",
       "</div>"
      ],
      "text/plain": [
       "     type                                               text  \\\n",
       "510   ham  YEH I AM DEF UP4 SOMETHING SAT,JUST GOT PAYED2...   \n",
       "802   ham  This is ur face test ( 1 2 3 4 5 6 7 8 9  #  )...   \n",
       "909   ham  Hey pple...$700 or $900 for 5 nights...Excelle...   \n",
       "1019  ham  Hi this is yijue... It's regarding the 3230 te...   \n",
       "1950  ham  MY NO. IN LUTON 0125698789 RING ME IF UR AROUN...   \n",
       "2485  ham  Hey...Great deal...Farm tour 9am to 5pm $95/pa...   \n",
       "3157  ham  Hi Jon, Pete here, Ive bin 2 Spain recently & ...   \n",
       "3319  ham  It's Ã© only $140 ard...Ã‰ rest all ard $180 a...   \n",
       "4473  ham         Your bill at 3 is £33.65 so thats not bad!   \n",
       "4906  ham  Hmm...Bad news...Hype park plaza $700 studio t...   \n",
       "\n",
       "                                             clean_text  \n",
       "510   YEH I AM DEF UP4 SOMETHING SAT,JUST GOT PAYED2...  \n",
       "802   This is ur face test ( phoneplaceholder  8 9  ...  \n",
       "909   Hey pple... cash_amount  or  cash_amount  for ...  \n",
       "1019  Hi this is yijue... It's regarding the 3230 te...  \n",
       "1950  MY NO. IN LUTON phoneplaceholder RING ME IF UR...  \n",
       "2485  Hey...Great deal...Farm tour 9am to 5pm  cash_...  \n",
       "3157  Hi Jon, Pete here, Ive bin 2 Spain recently & ...  \n",
       "3319  It's Ã© only  cash_amount  ard...Ã‰ rest all a...  \n",
       "4473  Your bill at 3 is  cash_amount  so thats not bad!  \n",
       "4906  Hmm...Bad news...Hype park plaza  cash_amount ...  "
      ]
     },
     "execution_count": 260,
     "metadata": {},
     "output_type": "execute_result"
    }
   ],
   "source": [
    "url_regex = 'http[s]?://(?:[a-zA-Z]|[0-9]|[$-_@.&+]|[!*\\(\\),]|(?:%[0-9a-fA-F][0-9a-fA-F]))+'\n",
    "email_regex='^([a-zA-Z0-9_\\-\\.]+)@([a-zA-Z0-9_\\-\\.]+)\\.([a-zA-Z]{2,5})$'\n",
    "#obtained from stack overflow\n",
    "phone_regex='[\\+]?[0-9 ]{11,14}'\n",
    "#'((((\\(?0\\d{4}\\)?\\s?\\d{3}\\s?\\d{3})|(\\(?0\\d{3}\\)?\\s?\\d{3}\\s?\\d{4})|(\\(?0\\d{2}\\)?\\s?\\d{4}\\s?\\d{4}))(\\s?\\(\\d{4}|\\d{3}))?)|((\\+44\\s?7\\d{3}|\\(?07\\d{3}\\)?)\\s?\\d{3}\\s?\\d{3})|((((\\+44\\s?\\d{4}|\\(?0\\d{4}\\)?)\\s?\\d{3}\\s?\\d{3})|((\\+44\\s?\\d{3}|\\(?0\\d{3}\\)?)\\s?\\d{3}\\s?\\d{4})|((\\+44\\s?\\d{2}|\\(?0\\d{2}\\)?)\\s?\\d{4}\\s?\\d{4}))(\\s?\\(\\d{4}|\\d{3}))?$'\n",
    "currency_regex='[\\$|£|€][0-9\\,]*\\.?\\d{2}'#'|[\\$|£|€]+/-?\\d+(,\\d{3})*(\\.\\d{1,2})?$/'\n",
    "#'[\\$|£|€]\\d*\\.?\\d{2}'\n",
    "# Write a function that performing basic cleaning on the text data by replacing links, phone numbers, email addresses and currency amounts\n",
    "def clean_text(text):\n",
    "    '''\n",
    "    Cleans the text data by replacing URLs, @-replies, hashtags, and emoji with text placeholders.\n",
    "    \n",
    "    INPUT:\n",
    "    text - (str) text data to be cleaned\n",
    "    \n",
    "    OUTPUT:\n",
    "    text - (str) cleaned text data with placeholders\n",
    "    '''\n",
    "    \n",
    "    # Replace URLs\n",
    "#    detected_urls = re.findall(url_regex, text)\n",
    "#    for url in detected_urls:\n",
    "#        text = text.replace(url, \"urlplaceholder\")\n",
    "        \n",
    "    #Replace phone numbers\n",
    "    detected_phone = re.findall(phone_regex, text)\n",
    "    #for i in range(0,len(detected_phone)):\n",
    "    for phone in detected_phone:\n",
    "           # if len(phone)>0:\n",
    "        text = text.replace(phone, \" phoneplaceholder \")\n",
    "    # Replace money amounts\n",
    "    \n",
    "    #detected_currency=[]\n",
    "    detected_currency = re.findall(currency_regex, text)\n",
    "    for amount in detected_currency:\n",
    "            text = text.replace(amount,\" cash_amount \")\n",
    "\n",
    "    detected_email = re.findall(email_regex, text)\n",
    "    for amount in detected_email:\n",
    "        text = text.replace(amount,\" email_address \")\n",
    "    \n",
    "    return text\n",
    "\n",
    "# Apply the text cleaning to our text column\n",
    "df[\"clean_text\"] = df[\"text\"].apply(lambda x: clean_text(x))\n",
    "\n",
    "    \n",
    "df[(df['text']!=df['clean_text']) & (df['type']=='ham')]\n"
   ]
  },
  {
   "cell_type": "code",
   "execution_count": 250,
   "metadata": {},
   "outputs": [
    {
     "data": {
      "text/plain": [
       "['+447792 893 772']"
      ]
     },
     "execution_count": 250,
     "metadata": {},
     "output_type": "execute_result"
    }
   ],
   "source": [
    "re.findall(phone_regex, '+447792 893 772')"
   ]
  },
  {
   "cell_type": "code",
   "execution_count": null,
   "metadata": {},
   "outputs": [],
   "source": []
  }
 ],
 "metadata": {
  "kernelspec": {
   "display_name": "Python 3",
   "language": "python",
   "name": "python3"
  },
  "language_info": {
   "codemirror_mode": {
    "name": "ipython",
    "version": 3
   },
   "file_extension": ".py",
   "mimetype": "text/x-python",
   "name": "python",
   "nbconvert_exporter": "python",
   "pygments_lexer": "ipython3",
   "version": "3.6.3"
  }
 },
 "nbformat": 4,
 "nbformat_minor": 2
}
